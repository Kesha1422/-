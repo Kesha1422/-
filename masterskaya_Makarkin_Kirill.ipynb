{
 "cells": [
  {
   "cell_type": "markdown",
   "id": "dcfbad08-b525-4ca1-a85f-7c5cafa27d62",
   "metadata": {},
   "source": [
    "## Задача проекта:\n",
    "разработать модель предсказания успешности стартапа (закроется или нет)\n"
   ]
  },
  {
   "cell_type": "markdown",
   "id": "90d4795e-e029-453e-b86c-c12d51e255d5",
   "metadata": {},
   "source": [
    "## Описание данных"
   ]
  },
  {
   "cell_type": "markdown",
   "id": "3b23ffc2-6b7e-462e-8c64-5b372139f15b",
   "metadata": {},
   "source": [
    "Датасет состоит из двух файлов: учебный набор (около 53к записей) и тестовый набор (около 13к записей). Тренировочный набор содержит целевой признак статуса, указывающий на то, завершился стартап или продолжает действовать. Временной период - '1970-01-01' по '2018-01-01'. Дата формирования выгрузки - '2018-01-01'\n",
    "\n",
    "`kaggle_startups_train_01.csv` - информация (53 000) стартапах, которые будут использованы в качестве обучающих данных.\n",
    "\n",
    "`kaggle_startups_test_01.csv` - информация (13 000) стартапах, которые будут использованы в качестве тестовых данных. \n",
    "\n",
    "\n",
    "`name` - Название стартапа\n",
    "\n",
    "`category_list` - Список категорий, к которым относится стартап\n",
    "\n",
    "`funding_total_usd` - Общая сумма финансирования в долларах США\n",
    "\n",
    "`status` - Статус стартапа (закрыт или действует)\n",
    "\n",
    "`country_code` - Код страны\n",
    "\n",
    "`state_code` - Код штата\n",
    "\n",
    "`region` - Регион\n",
    "\n",
    "`city` - Город\n",
    "\n",
    "`finance_rounds` - Количество раундов финансирования\n",
    "\n",
    "`found_at` - Дата основания\n",
    "\n",
    "`first_funding_at` - Дата первого раунда финансирования\n",
    "\n",
    "`last_funding_at` - Дата последнего раунда финансирования\n",
    "\n",
    "`closed_at` - Дата закрытия стартапа (если применимо)\n",
    "\n",
    "`lifetime` - Время существования стартапа в днях"
   ]
  },
  {
   "cell_type": "markdown",
   "id": "8ecf1f2e-7428-43cb-ab59-30f10eaac814",
   "metadata": {},
   "source": [
    "## Импорт библиотек и загрузка данных"
   ]
  },
  {
   "cell_type": "code",
   "execution_count": 1,
   "id": "198642b7-a900-4f93-8ba3-6945bcaca774",
   "metadata": {},
   "outputs": [],
   "source": [
    "!pip install imblearn -q\n",
    "!pip install phik -q\n",
    "!pip install seaborn -q\n",
    "!pip install -U scikit-learn -q"
   ]
  },
  {
   "cell_type": "code",
   "execution_count": 2,
   "id": "a827bf83-9d7d-4bd1-93ac-3c35416bf839",
   "metadata": {},
   "outputs": [],
   "source": [
    "\n",
    "#матрица корреляции\n",
    "from sklearn.metrics import confusion_matrix\n",
    "\n",
    "import pandas as pd\n",
    "\n",
    "import numpy as np\n",
    "\n",
    "from phik.report import plot_correlation_matrix\n",
    "import warnings\n",
    "warnings.filterwarnings(\"ignore\")\n",
    "\n",
    "import matplotlib.pyplot as plt\n",
    "\n",
    "# класс для работы с пропусками\n",
    "from sklearn.impute import SimpleImputer\n",
    "\n",
    "# загружаем классы для работы с пайплайнами\n",
    "from sklearn.pipeline import Pipeline              \n",
    "from sklearn.compose import ColumnTransformer\n",
    "\n",
    "#классы для обработки данных для модели\n",
    "from sklearn.preprocessing import OneHotEncoder, StandardScaler, MinMaxScaler\n",
    "\n",
    "#модели\n",
    "from imblearn.over_sampling import SMOTENC\n",
    "from sklearn.ensemble import RandomForestClassifier\n",
    "from sklearn.model_selection import  RandomizedSearchCV, GridSearchCV, train_test_split"
   ]
  },
  {
   "cell_type": "code",
   "execution_count": 168,
   "id": "fe8bc363",
   "metadata": {
    "id": "fe8bc363"
   },
   "outputs": [],
   "source": [
    "train =  pd.read_csv(r'kaggle_startups_train_28062024.csv')\n",
    "test =  pd.read_csv(r'kaggle_startups_test_28062024.csv')"
   ]
  },
  {
   "cell_type": "code",
   "execution_count": 169,
   "id": "f3d02965",
   "metadata": {
    "colab": {
     "base_uri": "https://localhost:8080/",
     "height": 363
    },
    "id": "f3d02965",
    "outputId": "6a851d0f-b3e3-4982-a593-6de9504d94fe"
   },
   "outputs": [
    {
     "data": {
      "text/html": [
       "<div>\n",
       "<style scoped>\n",
       "    .dataframe tbody tr th:only-of-type {\n",
       "        vertical-align: middle;\n",
       "    }\n",
       "\n",
       "    .dataframe tbody tr th {\n",
       "        vertical-align: top;\n",
       "    }\n",
       "\n",
       "    .dataframe thead th {\n",
       "        text-align: right;\n",
       "    }\n",
       "</style>\n",
       "<table border=\"1\" class=\"dataframe\">\n",
       "  <thead>\n",
       "    <tr style=\"text-align: right;\">\n",
       "      <th></th>\n",
       "      <th>name</th>\n",
       "      <th>category_list</th>\n",
       "      <th>funding_total_usd</th>\n",
       "      <th>status</th>\n",
       "      <th>country_code</th>\n",
       "      <th>state_code</th>\n",
       "      <th>region</th>\n",
       "      <th>city</th>\n",
       "      <th>funding_rounds</th>\n",
       "      <th>founded_at</th>\n",
       "      <th>first_funding_at</th>\n",
       "      <th>last_funding_at</th>\n",
       "      <th>closed_at</th>\n",
       "    </tr>\n",
       "  </thead>\n",
       "  <tbody>\n",
       "    <tr>\n",
       "      <th>0</th>\n",
       "      <td>Lunchgate</td>\n",
       "      <td>Online Reservations|Restaurants</td>\n",
       "      <td>828626.0</td>\n",
       "      <td>operating</td>\n",
       "      <td>CHE</td>\n",
       "      <td>25</td>\n",
       "      <td>Zurich</td>\n",
       "      <td>Zürich</td>\n",
       "      <td>2</td>\n",
       "      <td>2009-10-17</td>\n",
       "      <td>2011-05-01</td>\n",
       "      <td>2014-12-01</td>\n",
       "      <td>NaN</td>\n",
       "    </tr>\n",
       "    <tr>\n",
       "      <th>1</th>\n",
       "      <td>EarLens</td>\n",
       "      <td>Manufacturing|Medical|Medical Devices</td>\n",
       "      <td>42935019.0</td>\n",
       "      <td>operating</td>\n",
       "      <td>USA</td>\n",
       "      <td>CA</td>\n",
       "      <td>SF Bay Area</td>\n",
       "      <td>Redwood City</td>\n",
       "      <td>4</td>\n",
       "      <td>2005-01-01</td>\n",
       "      <td>2010-05-04</td>\n",
       "      <td>2014-02-25</td>\n",
       "      <td>NaN</td>\n",
       "    </tr>\n",
       "    <tr>\n",
       "      <th>2</th>\n",
       "      <td>Reviva Pharmaceuticals</td>\n",
       "      <td>Biotechnology</td>\n",
       "      <td>35456381.0</td>\n",
       "      <td>operating</td>\n",
       "      <td>USA</td>\n",
       "      <td>CA</td>\n",
       "      <td>SF Bay Area</td>\n",
       "      <td>San Jose</td>\n",
       "      <td>3</td>\n",
       "      <td>2006-01-01</td>\n",
       "      <td>2012-08-20</td>\n",
       "      <td>2014-07-02</td>\n",
       "      <td>NaN</td>\n",
       "    </tr>\n",
       "    <tr>\n",
       "      <th>3</th>\n",
       "      <td>Sancilio and Company</td>\n",
       "      <td>Health Care</td>\n",
       "      <td>22250000.0</td>\n",
       "      <td>operating</td>\n",
       "      <td>NaN</td>\n",
       "      <td>NaN</td>\n",
       "      <td>NaN</td>\n",
       "      <td>NaN</td>\n",
       "      <td>3</td>\n",
       "      <td>2004-01-01</td>\n",
       "      <td>2011-09-01</td>\n",
       "      <td>2014-07-18</td>\n",
       "      <td>NaN</td>\n",
       "    </tr>\n",
       "    <tr>\n",
       "      <th>4</th>\n",
       "      <td>WireTough Cylinders</td>\n",
       "      <td>Manufacturing</td>\n",
       "      <td>NaN</td>\n",
       "      <td>operating</td>\n",
       "      <td>USA</td>\n",
       "      <td>VA</td>\n",
       "      <td>VA - Other</td>\n",
       "      <td>Bristol</td>\n",
       "      <td>1</td>\n",
       "      <td>2010-05-12</td>\n",
       "      <td>2012-02-01</td>\n",
       "      <td>2012-02-01</td>\n",
       "      <td>NaN</td>\n",
       "    </tr>\n",
       "    <tr>\n",
       "      <th>5</th>\n",
       "      <td>Connected Sports Ventures</td>\n",
       "      <td>Mobile</td>\n",
       "      <td>4300000.0</td>\n",
       "      <td>operating</td>\n",
       "      <td>USA</td>\n",
       "      <td>NJ</td>\n",
       "      <td>Newark</td>\n",
       "      <td>Princeton</td>\n",
       "      <td>1</td>\n",
       "      <td>2011-04-16</td>\n",
       "      <td>2012-11-12</td>\n",
       "      <td>2012-11-12</td>\n",
       "      <td>NaN</td>\n",
       "    </tr>\n",
       "    <tr>\n",
       "      <th>6</th>\n",
       "      <td>Attensity</td>\n",
       "      <td>Analytics|Business Analytics|Social CRM|Social...</td>\n",
       "      <td>90000000.0</td>\n",
       "      <td>operating</td>\n",
       "      <td>USA</td>\n",
       "      <td>CA</td>\n",
       "      <td>SF Bay Area</td>\n",
       "      <td>Redwood City</td>\n",
       "      <td>1</td>\n",
       "      <td>2000-01-01</td>\n",
       "      <td>2014-05-14</td>\n",
       "      <td>2014-05-14</td>\n",
       "      <td>NaN</td>\n",
       "    </tr>\n",
       "    <tr>\n",
       "      <th>7</th>\n",
       "      <td>Mesh Networks</td>\n",
       "      <td>Software</td>\n",
       "      <td>4300000.0</td>\n",
       "      <td>operating</td>\n",
       "      <td>USA</td>\n",
       "      <td>TX</td>\n",
       "      <td>Houston</td>\n",
       "      <td>Houston</td>\n",
       "      <td>1</td>\n",
       "      <td>2005-01-01</td>\n",
       "      <td>2014-11-09</td>\n",
       "      <td>2014-11-09</td>\n",
       "      <td>NaN</td>\n",
       "    </tr>\n",
       "    <tr>\n",
       "      <th>8</th>\n",
       "      <td>AngioScore</td>\n",
       "      <td>Biotechnology</td>\n",
       "      <td>42000000.0</td>\n",
       "      <td>operating</td>\n",
       "      <td>USA</td>\n",
       "      <td>CA</td>\n",
       "      <td>SF Bay Area</td>\n",
       "      <td>Fremont</td>\n",
       "      <td>2</td>\n",
       "      <td>2003-01-01</td>\n",
       "      <td>2007-10-09</td>\n",
       "      <td>2011-04-20</td>\n",
       "      <td>NaN</td>\n",
       "    </tr>\n",
       "    <tr>\n",
       "      <th>9</th>\n",
       "      <td>Vidatronic</td>\n",
       "      <td>Semiconductors</td>\n",
       "      <td>1250500.0</td>\n",
       "      <td>operating</td>\n",
       "      <td>USA</td>\n",
       "      <td>TX</td>\n",
       "      <td>Austin</td>\n",
       "      <td>College Station</td>\n",
       "      <td>2</td>\n",
       "      <td>2010-01-01</td>\n",
       "      <td>2011-08-23</td>\n",
       "      <td>2013-03-21</td>\n",
       "      <td>NaN</td>\n",
       "    </tr>\n",
       "  </tbody>\n",
       "</table>\n",
       "</div>"
      ],
      "text/plain": [
       "                        name  \\\n",
       "0                  Lunchgate   \n",
       "1                    EarLens   \n",
       "2     Reviva Pharmaceuticals   \n",
       "3       Sancilio and Company   \n",
       "4        WireTough Cylinders   \n",
       "5  Connected Sports Ventures   \n",
       "6                  Attensity   \n",
       "7              Mesh Networks   \n",
       "8                 AngioScore   \n",
       "9                 Vidatronic   \n",
       "\n",
       "                                       category_list  funding_total_usd  \\\n",
       "0                    Online Reservations|Restaurants           828626.0   \n",
       "1              Manufacturing|Medical|Medical Devices         42935019.0   \n",
       "2                                      Biotechnology         35456381.0   \n",
       "3                                        Health Care         22250000.0   \n",
       "4                                      Manufacturing                NaN   \n",
       "5                                             Mobile          4300000.0   \n",
       "6  Analytics|Business Analytics|Social CRM|Social...         90000000.0   \n",
       "7                                           Software          4300000.0   \n",
       "8                                      Biotechnology         42000000.0   \n",
       "9                                     Semiconductors          1250500.0   \n",
       "\n",
       "      status country_code state_code       region             city  \\\n",
       "0  operating          CHE         25       Zurich           Zürich   \n",
       "1  operating          USA         CA  SF Bay Area     Redwood City   \n",
       "2  operating          USA         CA  SF Bay Area         San Jose   \n",
       "3  operating          NaN        NaN          NaN              NaN   \n",
       "4  operating          USA         VA   VA - Other          Bristol   \n",
       "5  operating          USA         NJ       Newark        Princeton   \n",
       "6  operating          USA         CA  SF Bay Area     Redwood City   \n",
       "7  operating          USA         TX      Houston          Houston   \n",
       "8  operating          USA         CA  SF Bay Area          Fremont   \n",
       "9  operating          USA         TX       Austin  College Station   \n",
       "\n",
       "   funding_rounds  founded_at first_funding_at last_funding_at closed_at  \n",
       "0               2  2009-10-17       2011-05-01      2014-12-01       NaN  \n",
       "1               4  2005-01-01       2010-05-04      2014-02-25       NaN  \n",
       "2               3  2006-01-01       2012-08-20      2014-07-02       NaN  \n",
       "3               3  2004-01-01       2011-09-01      2014-07-18       NaN  \n",
       "4               1  2010-05-12       2012-02-01      2012-02-01       NaN  \n",
       "5               1  2011-04-16       2012-11-12      2012-11-12       NaN  \n",
       "6               1  2000-01-01       2014-05-14      2014-05-14       NaN  \n",
       "7               1  2005-01-01       2014-11-09      2014-11-09       NaN  \n",
       "8               2  2003-01-01       2007-10-09      2011-04-20       NaN  \n",
       "9               2  2010-01-01       2011-08-23      2013-03-21       NaN  "
      ]
     },
     "execution_count": 169,
     "metadata": {},
     "output_type": "execute_result"
    }
   ],
   "source": [
    "train.head(10)"
   ]
  },
  {
   "cell_type": "code",
   "execution_count": 170,
   "id": "f294ccee",
   "metadata": {
    "colab": {
     "base_uri": "https://localhost:8080/"
    },
    "id": "f294ccee",
    "outputId": "2cd3130b-ae3c-49ea-9cb9-6f79665ccf3b",
    "scrolled": true
   },
   "outputs": [
    {
     "name": "stdout",
     "output_type": "stream",
     "text": [
      "<class 'pandas.core.frame.DataFrame'>\n",
      "RangeIndex: 52516 entries, 0 to 52515\n",
      "Data columns (total 13 columns):\n",
      " #   Column             Non-Null Count  Dtype  \n",
      "---  ------             --------------  -----  \n",
      " 0   name               52515 non-null  object \n",
      " 1   category_list      50051 non-null  object \n",
      " 2   funding_total_usd  42447 non-null  float64\n",
      " 3   status             52516 non-null  object \n",
      " 4   country_code       47014 non-null  object \n",
      " 5   state_code         45753 non-null  object \n",
      " 6   region             46157 non-null  object \n",
      " 7   city               46157 non-null  object \n",
      " 8   funding_rounds     52516 non-null  int64  \n",
      " 9   founded_at         52516 non-null  object \n",
      " 10  first_funding_at   52516 non-null  object \n",
      " 11  last_funding_at    52516 non-null  object \n",
      " 12  closed_at          4917 non-null   object \n",
      "dtypes: float64(1), int64(1), object(11)\n",
      "memory usage: 5.2+ MB\n"
     ]
    }
   ],
   "source": [
    "train.info()"
   ]
  },
  {
   "cell_type": "markdown",
   "id": "0c127e10",
   "metadata": {
    "id": "0c127e10"
   },
   "source": [
    "Меняем типы данных"
   ]
  },
  {
   "cell_type": "code",
   "execution_count": 171,
   "id": "8a68b993-928d-4051-bea1-b7ad174501c6",
   "metadata": {},
   "outputs": [
    {
     "name": "stdout",
     "output_type": "stream",
     "text": [
      "<class 'pandas.core.frame.DataFrame'>\n",
      "RangeIndex: 13125 entries, 0 to 13124\n",
      "Data columns (total 11 columns):\n",
      " #   Column             Non-Null Count  Dtype  \n",
      "---  ------             --------------  -----  \n",
      " 0   name               13125 non-null  object \n",
      " 1   category_list      12534 non-null  object \n",
      " 2   funding_total_usd  10547 non-null  float64\n",
      " 3   country_code       11743 non-null  object \n",
      " 4   state_code         11430 non-null  object \n",
      " 5   region             11536 non-null  object \n",
      " 6   city               11538 non-null  object \n",
      " 7   funding_rounds     13125 non-null  int64  \n",
      " 8   first_funding_at   13125 non-null  object \n",
      " 9   last_funding_at    13125 non-null  object \n",
      " 10  lifetime           13125 non-null  int64  \n",
      "dtypes: float64(1), int64(2), object(8)\n",
      "memory usage: 1.1+ MB\n"
     ]
    }
   ],
   "source": [
    "test.info()"
   ]
  },
  {
   "cell_type": "code",
   "execution_count": 172,
   "id": "8b57b47c",
   "metadata": {
    "colab": {
     "base_uri": "https://localhost:8080/"
    },
    "id": "8b57b47c",
    "outputId": "f4c8f867-d30c-4904-c268-bec720613b0e"
   },
   "outputs": [
    {
     "name": "stdout",
     "output_type": "stream",
     "text": [
      "<class 'pandas.core.frame.DataFrame'>\n",
      "RangeIndex: 52516 entries, 0 to 52515\n",
      "Data columns (total 13 columns):\n",
      " #   Column             Non-Null Count  Dtype         \n",
      "---  ------             --------------  -----         \n",
      " 0   name               52515 non-null  object        \n",
      " 1   category_list      50051 non-null  object        \n",
      " 2   funding_total_usd  42447 non-null  float64       \n",
      " 3   status             52516 non-null  object        \n",
      " 4   country_code       47014 non-null  object        \n",
      " 5   state_code         45753 non-null  object        \n",
      " 6   region             46157 non-null  object        \n",
      " 7   city               46157 non-null  object        \n",
      " 8   funding_rounds     52516 non-null  int64         \n",
      " 9   founded_at         52516 non-null  datetime64[ns]\n",
      " 10  first_funding_at   52516 non-null  datetime64[ns]\n",
      " 11  last_funding_at    52516 non-null  datetime64[ns]\n",
      " 12  closed_at          4917 non-null   datetime64[ns]\n",
      "dtypes: datetime64[ns](4), float64(1), int64(1), object(7)\n",
      "memory usage: 5.2+ MB\n"
     ]
    }
   ],
   "source": [
    "train['founded_at'] = train['founded_at'].astype(\"datetime64[ns]\")\n",
    "train['first_funding_at'] = train['first_funding_at'].astype(\"datetime64[ns]\")\n",
    "train['last_funding_at'] = train['last_funding_at'].astype(\"datetime64[ns]\")\n",
    "train['closed_at'] = train['closed_at'].astype(\"datetime64[ns]\")\n",
    "train.info()\n",
    "\n",
    "\n",
    "\n",
    "test['first_funding_at'] = test['first_funding_at'].astype(\"datetime64[ns]\")\n",
    "test['last_funding_at'] = test['last_funding_at'].astype(\"datetime64[ns]\")\n"
   ]
  },
  {
   "cell_type": "markdown",
   "id": "cc40b380-613c-4b48-a07b-30d965eb1363",
   "metadata": {},
   "source": [
    "## Предобработка данных"
   ]
  },
  {
   "cell_type": "markdown",
   "id": "3b2a34ab",
   "metadata": {
    "id": "3b2a34ab"
   },
   "source": [
    "Заполним пропуски в столбце closed_at, в ней пропущенные значения укажем как дату сбора данных и создадим новый признак с временем жизни стартапа `lifetime`"
   ]
  },
  {
   "cell_type": "code",
   "execution_count": 173,
   "id": "4a439fc5",
   "metadata": {
    "id": "4a439fc5"
   },
   "outputs": [],
   "source": [
    "train.closed_at.fillna(pd.to_datetime('2018-01-01'), inplace=True)\n",
    "train['lifetime'] = (train.closed_at-train.founded_at).dt.days"
   ]
  },
  {
   "cell_type": "code",
   "execution_count": 174,
   "id": "e0153057",
   "metadata": {
    "colab": {
     "base_uri": "https://localhost:8080/"
    },
    "id": "e0153057",
    "outputId": "278083d0-bb8b-4d18-d962-24f6caa433d4"
   },
   "outputs": [
    {
     "name": "stdout",
     "output_type": "stream",
     "text": [
      "<class 'pandas.core.frame.DataFrame'>\n",
      "RangeIndex: 52516 entries, 0 to 52515\n",
      "Data columns (total 14 columns):\n",
      " #   Column             Non-Null Count  Dtype         \n",
      "---  ------             --------------  -----         \n",
      " 0   name               52515 non-null  object        \n",
      " 1   category_list      50051 non-null  object        \n",
      " 2   funding_total_usd  42447 non-null  float64       \n",
      " 3   status             52516 non-null  object        \n",
      " 4   country_code       47014 non-null  object        \n",
      " 5   state_code         45753 non-null  object        \n",
      " 6   region             46157 non-null  object        \n",
      " 7   city               46157 non-null  object        \n",
      " 8   funding_rounds     52516 non-null  int64         \n",
      " 9   founded_at         52516 non-null  datetime64[ns]\n",
      " 10  first_funding_at   52516 non-null  datetime64[ns]\n",
      " 11  last_funding_at    52516 non-null  datetime64[ns]\n",
      " 12  closed_at          52516 non-null  datetime64[ns]\n",
      " 13  lifetime           52516 non-null  int64         \n",
      "dtypes: datetime64[ns](4), float64(1), int64(2), object(7)\n",
      "memory usage: 5.6+ MB\n"
     ]
    }
   ],
   "source": [
    "train.head(10)\n",
    "train.info()"
   ]
  },
  {
   "cell_type": "markdown",
   "id": "33fd0080-35c2-4322-a8f0-b773dda1758b",
   "metadata": {},
   "source": [
    "Проверим данные на наличие явных  дубликатов"
   ]
  },
  {
   "cell_type": "code",
   "execution_count": 175,
   "id": "d44e3cc4",
   "metadata": {
    "colab": {
     "base_uri": "https://localhost:8080/"
    },
    "id": "d44e3cc4",
    "outputId": "63d548af-9aa2-4a97-b9e6-ebc8b5f93cc7"
   },
   "outputs": [
    {
     "data": {
      "text/plain": [
       "False    52516\n",
       "Name: count, dtype: int64"
      ]
     },
     "execution_count": 175,
     "metadata": {},
     "output_type": "execute_result"
    }
   ],
   "source": [
    "train.duplicated().value_counts()"
   ]
  },
  {
   "cell_type": "markdown",
   "id": "d3febc17",
   "metadata": {
    "id": "d3febc17"
   },
   "source": [
    "Явных дубликатов нет."
   ]
  },
  {
   "cell_type": "markdown",
   "id": "538d4245-3735-499b-bd70-b09ff5541251",
   "metadata": {
    "id": "538d4245-3735-499b-bd70-b09ff5541251"
   },
   "source": [
    "Создадим новый признак `delta_funding_at`. Из даты основания вычтем дату первого раунда финансирования"
   ]
  },
  {
   "cell_type": "code",
   "execution_count": 176,
   "id": "5ed55709-fade-4249-bf54-bf18fa8c1726",
   "metadata": {
    "id": "5ed55709-fade-4249-bf54-bf18fa8c1726"
   },
   "outputs": [],
   "source": [
    "train['delta_funding_at'] = (train.last_funding_at-train.first_funding_at).dt.days\n",
    "test['delta_funding_at'] = (test.last_funding_at-test.first_funding_at).dt.days"
   ]
  },
  {
   "cell_type": "code",
   "execution_count": 177,
   "id": "36c2df95-1fdf-49fb-9ddc-bdef214b8362",
   "metadata": {
    "colab": {
     "base_uri": "https://localhost:8080/",
     "height": 557
    },
    "id": "36c2df95-1fdf-49fb-9ddc-bdef214b8362",
    "outputId": "3e4704fe-2241-4142-83ef-cac656d58510",
    "scrolled": true
   },
   "outputs": [
    {
     "data": {
      "text/html": [
       "<div>\n",
       "<style scoped>\n",
       "    .dataframe tbody tr th:only-of-type {\n",
       "        vertical-align: middle;\n",
       "    }\n",
       "\n",
       "    .dataframe tbody tr th {\n",
       "        vertical-align: top;\n",
       "    }\n",
       "\n",
       "    .dataframe thead th {\n",
       "        text-align: right;\n",
       "    }\n",
       "</style>\n",
       "<table border=\"1\" class=\"dataframe\">\n",
       "  <thead>\n",
       "    <tr style=\"text-align: right;\">\n",
       "      <th></th>\n",
       "      <th>name</th>\n",
       "      <th>category_list</th>\n",
       "      <th>funding_total_usd</th>\n",
       "      <th>status</th>\n",
       "      <th>country_code</th>\n",
       "      <th>state_code</th>\n",
       "      <th>region</th>\n",
       "      <th>city</th>\n",
       "      <th>funding_rounds</th>\n",
       "      <th>founded_at</th>\n",
       "      <th>first_funding_at</th>\n",
       "      <th>last_funding_at</th>\n",
       "      <th>closed_at</th>\n",
       "      <th>lifetime</th>\n",
       "      <th>delta_funding_at</th>\n",
       "    </tr>\n",
       "  </thead>\n",
       "  <tbody>\n",
       "    <tr>\n",
       "      <th>0</th>\n",
       "      <td>Lunchgate</td>\n",
       "      <td>Online Reservations|Restaurants</td>\n",
       "      <td>828626.0</td>\n",
       "      <td>operating</td>\n",
       "      <td>CHE</td>\n",
       "      <td>25</td>\n",
       "      <td>Zurich</td>\n",
       "      <td>Zürich</td>\n",
       "      <td>2</td>\n",
       "      <td>2009-10-17</td>\n",
       "      <td>2011-05-01</td>\n",
       "      <td>2014-12-01</td>\n",
       "      <td>2018-01-01</td>\n",
       "      <td>2998</td>\n",
       "      <td>1310</td>\n",
       "    </tr>\n",
       "    <tr>\n",
       "      <th>1</th>\n",
       "      <td>EarLens</td>\n",
       "      <td>Manufacturing|Medical|Medical Devices</td>\n",
       "      <td>42935019.0</td>\n",
       "      <td>operating</td>\n",
       "      <td>USA</td>\n",
       "      <td>CA</td>\n",
       "      <td>SF Bay Area</td>\n",
       "      <td>Redwood City</td>\n",
       "      <td>4</td>\n",
       "      <td>2005-01-01</td>\n",
       "      <td>2010-05-04</td>\n",
       "      <td>2014-02-25</td>\n",
       "      <td>2018-01-01</td>\n",
       "      <td>4748</td>\n",
       "      <td>1393</td>\n",
       "    </tr>\n",
       "    <tr>\n",
       "      <th>2</th>\n",
       "      <td>Reviva Pharmaceuticals</td>\n",
       "      <td>Biotechnology</td>\n",
       "      <td>35456381.0</td>\n",
       "      <td>operating</td>\n",
       "      <td>USA</td>\n",
       "      <td>CA</td>\n",
       "      <td>SF Bay Area</td>\n",
       "      <td>San Jose</td>\n",
       "      <td>3</td>\n",
       "      <td>2006-01-01</td>\n",
       "      <td>2012-08-20</td>\n",
       "      <td>2014-07-02</td>\n",
       "      <td>2018-01-01</td>\n",
       "      <td>4383</td>\n",
       "      <td>681</td>\n",
       "    </tr>\n",
       "    <tr>\n",
       "      <th>3</th>\n",
       "      <td>Sancilio and Company</td>\n",
       "      <td>Health Care</td>\n",
       "      <td>22250000.0</td>\n",
       "      <td>operating</td>\n",
       "      <td>NaN</td>\n",
       "      <td>NaN</td>\n",
       "      <td>NaN</td>\n",
       "      <td>NaN</td>\n",
       "      <td>3</td>\n",
       "      <td>2004-01-01</td>\n",
       "      <td>2011-09-01</td>\n",
       "      <td>2014-07-18</td>\n",
       "      <td>2018-01-01</td>\n",
       "      <td>5114</td>\n",
       "      <td>1051</td>\n",
       "    </tr>\n",
       "    <tr>\n",
       "      <th>4</th>\n",
       "      <td>WireTough Cylinders</td>\n",
       "      <td>Manufacturing</td>\n",
       "      <td>NaN</td>\n",
       "      <td>operating</td>\n",
       "      <td>USA</td>\n",
       "      <td>VA</td>\n",
       "      <td>VA - Other</td>\n",
       "      <td>Bristol</td>\n",
       "      <td>1</td>\n",
       "      <td>2010-05-12</td>\n",
       "      <td>2012-02-01</td>\n",
       "      <td>2012-02-01</td>\n",
       "      <td>2018-01-01</td>\n",
       "      <td>2791</td>\n",
       "      <td>0</td>\n",
       "    </tr>\n",
       "    <tr>\n",
       "      <th>5</th>\n",
       "      <td>Connected Sports Ventures</td>\n",
       "      <td>Mobile</td>\n",
       "      <td>4300000.0</td>\n",
       "      <td>operating</td>\n",
       "      <td>USA</td>\n",
       "      <td>NJ</td>\n",
       "      <td>Newark</td>\n",
       "      <td>Princeton</td>\n",
       "      <td>1</td>\n",
       "      <td>2011-04-16</td>\n",
       "      <td>2012-11-12</td>\n",
       "      <td>2012-11-12</td>\n",
       "      <td>2018-01-01</td>\n",
       "      <td>2452</td>\n",
       "      <td>0</td>\n",
       "    </tr>\n",
       "    <tr>\n",
       "      <th>6</th>\n",
       "      <td>Attensity</td>\n",
       "      <td>Analytics|Business Analytics|Social CRM|Social...</td>\n",
       "      <td>90000000.0</td>\n",
       "      <td>operating</td>\n",
       "      <td>USA</td>\n",
       "      <td>CA</td>\n",
       "      <td>SF Bay Area</td>\n",
       "      <td>Redwood City</td>\n",
       "      <td>1</td>\n",
       "      <td>2000-01-01</td>\n",
       "      <td>2014-05-14</td>\n",
       "      <td>2014-05-14</td>\n",
       "      <td>2018-01-01</td>\n",
       "      <td>6575</td>\n",
       "      <td>0</td>\n",
       "    </tr>\n",
       "    <tr>\n",
       "      <th>7</th>\n",
       "      <td>Mesh Networks</td>\n",
       "      <td>Software</td>\n",
       "      <td>4300000.0</td>\n",
       "      <td>operating</td>\n",
       "      <td>USA</td>\n",
       "      <td>TX</td>\n",
       "      <td>Houston</td>\n",
       "      <td>Houston</td>\n",
       "      <td>1</td>\n",
       "      <td>2005-01-01</td>\n",
       "      <td>2014-11-09</td>\n",
       "      <td>2014-11-09</td>\n",
       "      <td>2018-01-01</td>\n",
       "      <td>4748</td>\n",
       "      <td>0</td>\n",
       "    </tr>\n",
       "    <tr>\n",
       "      <th>8</th>\n",
       "      <td>AngioScore</td>\n",
       "      <td>Biotechnology</td>\n",
       "      <td>42000000.0</td>\n",
       "      <td>operating</td>\n",
       "      <td>USA</td>\n",
       "      <td>CA</td>\n",
       "      <td>SF Bay Area</td>\n",
       "      <td>Fremont</td>\n",
       "      <td>2</td>\n",
       "      <td>2003-01-01</td>\n",
       "      <td>2007-10-09</td>\n",
       "      <td>2011-04-20</td>\n",
       "      <td>2018-01-01</td>\n",
       "      <td>5479</td>\n",
       "      <td>1289</td>\n",
       "    </tr>\n",
       "    <tr>\n",
       "      <th>9</th>\n",
       "      <td>Vidatronic</td>\n",
       "      <td>Semiconductors</td>\n",
       "      <td>1250500.0</td>\n",
       "      <td>operating</td>\n",
       "      <td>USA</td>\n",
       "      <td>TX</td>\n",
       "      <td>Austin</td>\n",
       "      <td>College Station</td>\n",
       "      <td>2</td>\n",
       "      <td>2010-01-01</td>\n",
       "      <td>2011-08-23</td>\n",
       "      <td>2013-03-21</td>\n",
       "      <td>2018-01-01</td>\n",
       "      <td>2922</td>\n",
       "      <td>576</td>\n",
       "    </tr>\n",
       "  </tbody>\n",
       "</table>\n",
       "</div>"
      ],
      "text/plain": [
       "                        name  \\\n",
       "0                  Lunchgate   \n",
       "1                    EarLens   \n",
       "2     Reviva Pharmaceuticals   \n",
       "3       Sancilio and Company   \n",
       "4        WireTough Cylinders   \n",
       "5  Connected Sports Ventures   \n",
       "6                  Attensity   \n",
       "7              Mesh Networks   \n",
       "8                 AngioScore   \n",
       "9                 Vidatronic   \n",
       "\n",
       "                                       category_list  funding_total_usd  \\\n",
       "0                    Online Reservations|Restaurants           828626.0   \n",
       "1              Manufacturing|Medical|Medical Devices         42935019.0   \n",
       "2                                      Biotechnology         35456381.0   \n",
       "3                                        Health Care         22250000.0   \n",
       "4                                      Manufacturing                NaN   \n",
       "5                                             Mobile          4300000.0   \n",
       "6  Analytics|Business Analytics|Social CRM|Social...         90000000.0   \n",
       "7                                           Software          4300000.0   \n",
       "8                                      Biotechnology         42000000.0   \n",
       "9                                     Semiconductors          1250500.0   \n",
       "\n",
       "      status country_code state_code       region             city  \\\n",
       "0  operating          CHE         25       Zurich           Zürich   \n",
       "1  operating          USA         CA  SF Bay Area     Redwood City   \n",
       "2  operating          USA         CA  SF Bay Area         San Jose   \n",
       "3  operating          NaN        NaN          NaN              NaN   \n",
       "4  operating          USA         VA   VA - Other          Bristol   \n",
       "5  operating          USA         NJ       Newark        Princeton   \n",
       "6  operating          USA         CA  SF Bay Area     Redwood City   \n",
       "7  operating          USA         TX      Houston          Houston   \n",
       "8  operating          USA         CA  SF Bay Area          Fremont   \n",
       "9  operating          USA         TX       Austin  College Station   \n",
       "\n",
       "   funding_rounds founded_at first_funding_at last_funding_at  closed_at  \\\n",
       "0               2 2009-10-17       2011-05-01      2014-12-01 2018-01-01   \n",
       "1               4 2005-01-01       2010-05-04      2014-02-25 2018-01-01   \n",
       "2               3 2006-01-01       2012-08-20      2014-07-02 2018-01-01   \n",
       "3               3 2004-01-01       2011-09-01      2014-07-18 2018-01-01   \n",
       "4               1 2010-05-12       2012-02-01      2012-02-01 2018-01-01   \n",
       "5               1 2011-04-16       2012-11-12      2012-11-12 2018-01-01   \n",
       "6               1 2000-01-01       2014-05-14      2014-05-14 2018-01-01   \n",
       "7               1 2005-01-01       2014-11-09      2014-11-09 2018-01-01   \n",
       "8               2 2003-01-01       2007-10-09      2011-04-20 2018-01-01   \n",
       "9               2 2010-01-01       2011-08-23      2013-03-21 2018-01-01   \n",
       "\n",
       "   lifetime  delta_funding_at  \n",
       "0      2998              1310  \n",
       "1      4748              1393  \n",
       "2      4383               681  \n",
       "3      5114              1051  \n",
       "4      2791                 0  \n",
       "5      2452                 0  \n",
       "6      6575                 0  \n",
       "7      4748                 0  \n",
       "8      5479              1289  \n",
       "9      2922               576  "
      ]
     },
     "execution_count": 177,
     "metadata": {},
     "output_type": "execute_result"
    }
   ],
   "source": [
    "train.head(10)"
   ]
  },
  {
   "cell_type": "markdown",
   "id": "76ebe2cd-c51b-4116-89c2-6fbec59dcc16",
   "metadata": {},
   "source": [
    "Удалим пропущенные значения в столбце `funding_total_usd` и добавим нрвый признак `log_funding_total_usd` натуральнй логарифм от общей суммы финансирования"
   ]
  },
  {
   "cell_type": "code",
   "execution_count": 178,
   "id": "bf13521d-a2b1-4566-aefb-eb77df398d25",
   "metadata": {
    "id": "ce30a4b7-c9be-40f8-bc8a-b802e6f0d5b1"
   },
   "outputs": [],
   "source": [
    "train = train.dropna(subset=['funding_total_usd'])\n",
    "train['log_funding_total_usd'] = np.log(train['funding_total_usd'])"
   ]
  },
  {
   "cell_type": "markdown",
   "id": "bd0f1281-1338-4ce5-8df5-c8fffec5492b",
   "metadata": {},
   "source": [
    "## Построим матрицу корреляции"
   ]
  },
  {
   "cell_type": "code",
   "execution_count": 60,
   "id": "173ae93b-6a89-44d7-a61a-690620c3916c",
   "metadata": {
    "id": "ee253e30"
   },
   "outputs": [
    {
     "name": "stdout",
     "output_type": "stream",
     "text": [
      "interval columns not set, guessing: ['funding_total_usd', 'funding_rounds', 'lifetime', 'delta_funding_at', 'log_funding_total_usd']\n"
     ]
    },
    {
     "data": {
      "image/png": "[encoded data removed]",
      "text/plain": [
       "<Figure size 1000x1000 with 2 Axes>"
      ]
     },
     "metadata": {},
     "output_type": "display_data"
    }
   ],
   "source": [
    "phik_overview = train.sample(1000).phik_matrix()\n",
    "plot_correlation_matrix(phik_overview.values, x_labels=phik_overview.columns, y_labels=phik_overview.index,\n",
    "                        vmin=0, vmax=1, color_map='Greens', title=r'correlation $\\phi_K$', fontsize_factor=1,\n",
    "                        figsize=(10,10))\n",
    "plt.tight_layout()"
   ]
  },
  {
   "cell_type": "markdown",
   "id": "d4e080c6-7225-4497-9ade-b95ed3b80754",
   "metadata": {},
   "source": [
    "Признаки дат не несут в себе полезной информации для обучения моделей, как и информация с географическими данными. Для обучения моделей оставим данные о стране, финансировании, и времени жизни стартапа."
   ]
  },
  {
   "cell_type": "markdown",
   "id": "42ccc64b-e04f-4cc4-9be8-53476fd61eb0",
   "metadata": {
    "id": "42ccc64b-e04f-4cc4-9be8-53476fd61eb0"
   },
   "source": [
    "## Подготовка датафрейма перед обучением модели"
   ]
  },
  {
   "cell_type": "markdown",
   "id": "158537d6-3fed-4667-8484-1cef9552c712",
   "metadata": {},
   "source": [
    "Создаем новый дф с нужными нам столбцами"
   ]
  },
  {
   "cell_type": "code",
   "execution_count": 179,
   "id": "69a86d5a-e6a4-4288-8493-c01478b6d4df",
   "metadata": {},
   "outputs": [],
   "source": [
    "df= train[['country_code', 'funding_total_usd', 'funding_rounds', 'lifetime', 'delta_funding_at', 'status',\n",
    "           'log_funding_total_usd']]\n",
    "df.dropna(inplace=True)\n"
   ]
  },
  {
   "cell_type": "markdown",
   "id": "dbb34b90-b27e-4004-b2b6-37754119b56d",
   "metadata": {},
   "source": [
    "Фиксируем значение `random_state`"
   ]
  },
  {
   "cell_type": "code",
   "execution_count": 180,
   "id": "a5218d4c-8897-42d6-ae1e-c8cfe138470b",
   "metadata": {
    "id": "a5218d4c-8897-42d6-ae1e-c8cfe138470b"
   },
   "outputs": [],
   "source": [
    "RANDOM_STATE = 1337"
   ]
  },
  {
   "cell_type": "markdown",
   "id": "27df1a0f-754f-4444-90a3-ad60df4c0637",
   "metadata": {},
   "source": [
    "Кодируем целевой признак "
   ]
  },
  {
   "cell_type": "code",
   "execution_count": 181,
   "id": "53ffc30a-b7a2-4e54-90ab-1105e7d9ec5f",
   "metadata": {
    "id": "53ffc30a-b7a2-4e54-90ab-1105e7d9ec5f"
   },
   "outputs": [],
   "source": [
    "df.loc[df['status']=='operating', 'status'] = 1\n",
    "df.loc[df['status']=='closed', 'status'] = 0"
   ]
  },
  {
   "cell_type": "code",
   "execution_count": 182,
   "id": "9667c788-dd79-4712-b826-2d832f4bbaf3",
   "metadata": {
    "id": "9667c788-dd79-4712-b826-2d832f4bbaf3"
   },
   "outputs": [
    {
     "data": {
      "text/html": [
       "<div>\n",
       "<style scoped>\n",
       "    .dataframe tbody tr th:only-of-type {\n",
       "        vertical-align: middle;\n",
       "    }\n",
       "\n",
       "    .dataframe tbody tr th {\n",
       "        vertical-align: top;\n",
       "    }\n",
       "\n",
       "    .dataframe thead th {\n",
       "        text-align: right;\n",
       "    }\n",
       "</style>\n",
       "<table border=\"1\" class=\"dataframe\">\n",
       "  <thead>\n",
       "    <tr style=\"text-align: right;\">\n",
       "      <th></th>\n",
       "      <th>country_code</th>\n",
       "      <th>funding_total_usd</th>\n",
       "      <th>funding_rounds</th>\n",
       "      <th>lifetime</th>\n",
       "      <th>delta_funding_at</th>\n",
       "      <th>status</th>\n",
       "      <th>log_funding_total_usd</th>\n",
       "    </tr>\n",
       "  </thead>\n",
       "  <tbody>\n",
       "    <tr>\n",
       "      <th>0</th>\n",
       "      <td>CHE</td>\n",
       "      <td>828626.0</td>\n",
       "      <td>2</td>\n",
       "      <td>2998</td>\n",
       "      <td>1310</td>\n",
       "      <td>1</td>\n",
       "      <td>13.627524</td>\n",
       "    </tr>\n",
       "    <tr>\n",
       "      <th>1</th>\n",
       "      <td>USA</td>\n",
       "      <td>42935019.0</td>\n",
       "      <td>4</td>\n",
       "      <td>4748</td>\n",
       "      <td>1393</td>\n",
       "      <td>1</td>\n",
       "      <td>17.575198</td>\n",
       "    </tr>\n",
       "    <tr>\n",
       "      <th>2</th>\n",
       "      <td>USA</td>\n",
       "      <td>35456381.0</td>\n",
       "      <td>3</td>\n",
       "      <td>4383</td>\n",
       "      <td>681</td>\n",
       "      <td>1</td>\n",
       "      <td>17.383814</td>\n",
       "    </tr>\n",
       "    <tr>\n",
       "      <th>5</th>\n",
       "      <td>USA</td>\n",
       "      <td>4300000.0</td>\n",
       "      <td>1</td>\n",
       "      <td>2452</td>\n",
       "      <td>0</td>\n",
       "      <td>1</td>\n",
       "      <td>15.274126</td>\n",
       "    </tr>\n",
       "    <tr>\n",
       "      <th>6</th>\n",
       "      <td>USA</td>\n",
       "      <td>90000000.0</td>\n",
       "      <td>1</td>\n",
       "      <td>6575</td>\n",
       "      <td>0</td>\n",
       "      <td>1</td>\n",
       "      <td>18.315320</td>\n",
       "    </tr>\n",
       "    <tr>\n",
       "      <th>...</th>\n",
       "      <td>...</td>\n",
       "      <td>...</td>\n",
       "      <td>...</td>\n",
       "      <td>...</td>\n",
       "      <td>...</td>\n",
       "      <td>...</td>\n",
       "      <td>...</td>\n",
       "    </tr>\n",
       "    <tr>\n",
       "      <th>52510</th>\n",
       "      <td>CHN</td>\n",
       "      <td>205600000.0</td>\n",
       "      <td>2</td>\n",
       "      <td>6209</td>\n",
       "      <td>2606</td>\n",
       "      <td>1</td>\n",
       "      <td>19.141443</td>\n",
       "    </tr>\n",
       "    <tr>\n",
       "      <th>52512</th>\n",
       "      <td>IND</td>\n",
       "      <td>500000.0</td>\n",
       "      <td>1</td>\n",
       "      <td>1590</td>\n",
       "      <td>0</td>\n",
       "      <td>1</td>\n",
       "      <td>13.122363</td>\n",
       "    </tr>\n",
       "    <tr>\n",
       "      <th>52513</th>\n",
       "      <td>USA</td>\n",
       "      <td>50000.0</td>\n",
       "      <td>3</td>\n",
       "      <td>2741</td>\n",
       "      <td>566</td>\n",
       "      <td>1</td>\n",
       "      <td>10.819778</td>\n",
       "    </tr>\n",
       "    <tr>\n",
       "      <th>52514</th>\n",
       "      <td>USA</td>\n",
       "      <td>13000000.0</td>\n",
       "      <td>6</td>\n",
       "      <td>7336</td>\n",
       "      <td>1918</td>\n",
       "      <td>1</td>\n",
       "      <td>16.380460</td>\n",
       "    </tr>\n",
       "    <tr>\n",
       "      <th>52515</th>\n",
       "      <td>ESP</td>\n",
       "      <td>270820.0</td>\n",
       "      <td>1</td>\n",
       "      <td>1969</td>\n",
       "      <td>0</td>\n",
       "      <td>1</td>\n",
       "      <td>12.509210</td>\n",
       "    </tr>\n",
       "  </tbody>\n",
       "</table>\n",
       "<p>38771 rows × 7 columns</p>\n",
       "</div>"
      ],
      "text/plain": [
       "      country_code  funding_total_usd  funding_rounds  lifetime  \\\n",
       "0              CHE           828626.0               2      2998   \n",
       "1              USA         42935019.0               4      4748   \n",
       "2              USA         35456381.0               3      4383   \n",
       "5              USA          4300000.0               1      2452   \n",
       "6              USA         90000000.0               1      6575   \n",
       "...            ...                ...             ...       ...   \n",
       "52510          CHN        205600000.0               2      6209   \n",
       "52512          IND           500000.0               1      1590   \n",
       "52513          USA            50000.0               3      2741   \n",
       "52514          USA         13000000.0               6      7336   \n",
       "52515          ESP           270820.0               1      1969   \n",
       "\n",
       "       delta_funding_at  status  log_funding_total_usd  \n",
       "0                  1310       1              13.627524  \n",
       "1                  1393       1              17.575198  \n",
       "2                   681       1              17.383814  \n",
       "5                     0       1              15.274126  \n",
       "6                     0       1              18.315320  \n",
       "...                 ...     ...                    ...  \n",
       "52510              2606       1              19.141443  \n",
       "52512                 0       1              13.122363  \n",
       "52513               566       1              10.819778  \n",
       "52514              1918       1              16.380460  \n",
       "52515                 0       1              12.509210  \n",
       "\n",
       "[38771 rows x 7 columns]"
      ]
     },
     "execution_count": 182,
     "metadata": {},
     "output_type": "execute_result"
    }
   ],
   "source": [
    "df['status'] = df['status'].astype(int)\n",
    "df"
   ]
  },
  {
   "cell_type": "code",
   "execution_count": 183,
   "id": "dac9ed6c-d555-4ab0-889c-85d3860d199d",
   "metadata": {
    "colab": {
     "base_uri": "https://localhost:8080/"
    },
    "id": "dac9ed6c-d555-4ab0-889c-85d3860d199d",
    "outputId": "ea59686e-9ec1-4e62-96f1-772db104c681"
   },
   "outputs": [
    {
     "name": "stdout",
     "output_type": "stream",
     "text": [
      "<class 'pandas.core.frame.DataFrame'>\n",
      "Index: 38771 entries, 0 to 52515\n",
      "Data columns (total 7 columns):\n",
      " #   Column                 Non-Null Count  Dtype  \n",
      "---  ------                 --------------  -----  \n",
      " 0   country_code           38771 non-null  object \n",
      " 1   funding_total_usd      38771 non-null  float64\n",
      " 2   funding_rounds         38771 non-null  int64  \n",
      " 3   lifetime               38771 non-null  int64  \n",
      " 4   delta_funding_at       38771 non-null  int64  \n",
      " 5   status                 38771 non-null  int64  \n",
      " 6   log_funding_total_usd  38771 non-null  float64\n",
      "dtypes: float64(2), int64(4), object(1)\n",
      "memory usage: 2.4+ MB\n"
     ]
    }
   ],
   "source": [
    "df.info()"
   ]
  },
  {
   "cell_type": "code",
   "execution_count": 184,
   "id": "c24592d6-7df8-49e2-a38d-39106cc07164",
   "metadata": {
    "id": "c24592d6-7df8-49e2-a38d-39106cc07164"
   },
   "outputs": [],
   "source": [
    "df = df.reset_index(drop=True) #обнуляем индексы"
   ]
  },
  {
   "cell_type": "code",
   "execution_count": 185,
   "id": "93eb77a2",
   "metadata": {
    "id": "93eb77a2"
   },
   "outputs": [],
   "source": [
    "X = df[['country_code', 'funding_total_usd', 'funding_rounds', 'delta_funding_at', 'log_funding_total_usd', 'lifetime']]\n",
    "y = df['status']"
   ]
  },
  {
   "cell_type": "code",
   "execution_count": 186,
   "id": "d6d073a8-ff45-4120-9882-983cf64b9007",
   "metadata": {},
   "outputs": [
    {
     "data": {
      "text/plain": [
       "country_code             38771\n",
       "funding_total_usd        38771\n",
       "funding_rounds           38771\n",
       "delta_funding_at         38771\n",
       "log_funding_total_usd    38771\n",
       "lifetime                 38771\n",
       "dtype: int64"
      ]
     },
     "execution_count": 186,
     "metadata": {},
     "output_type": "execute_result"
    }
   ],
   "source": [
    "X.count()"
   ]
  },
  {
   "cell_type": "code",
   "execution_count": 187,
   "id": "aea95411-1fcc-4560-a356-0a9e9dbfcf1e",
   "metadata": {},
   "outputs": [
    {
     "data": {
      "text/plain": [
       "status\n",
       "1    35735\n",
       "0     3036\n",
       "Name: count, dtype: int64"
      ]
     },
     "execution_count": 187,
     "metadata": {},
     "output_type": "execute_result"
    }
   ],
   "source": [
    "df['status'].value_counts()"
   ]
  },
  {
   "cell_type": "markdown",
   "id": "4ebca316-6284-4848-9fff-ee9eeaf5d206",
   "metadata": {},
   "source": [
    "Так как в дф явный дисбаланс классов, займемся оверсемплингом"
   ]
  },
  {
   "cell_type": "code",
   "execution_count": 188,
   "id": "8242caf5-95c9-4dab-8bd0-f61075ef0eea",
   "metadata": {},
   "outputs": [],
   "source": [
    "sm = SMOTENC(random_state=RANDOM_STATE, categorical_features=['country_code'], sampling_strategy=0.25)\n",
    "X, y = sm.fit_resample(X, y)"
   ]
  },
  {
   "cell_type": "code",
   "execution_count": 189,
   "id": "02e50aac-77d5-4ab1-8eb7-211d31dcc0f2",
   "metadata": {},
   "outputs": [
    {
     "data": {
      "text/plain": [
       "status\n",
       "1    35735\n",
       "0     8933\n",
       "Name: count, dtype: int64"
      ]
     },
     "execution_count": 189,
     "metadata": {},
     "output_type": "execute_result"
    }
   ],
   "source": [
    "y.value_counts()"
   ]
  },
  {
   "cell_type": "markdown",
   "id": "5d56f19f-fab6-48a7-ab39-d944b016de12",
   "metadata": {},
   "source": [
    "Разделяем данные на тестовую и тренеровочную выборки"
   ]
  },
  {
   "cell_type": "code",
   "execution_count": 190,
   "id": "d1a0ab9b",
   "metadata": {
    "id": "d1a0ab9b"
   },
   "outputs": [],
   "source": [
    "X_train, X_test, y_train, y_test = train_test_split(X, y, test_size=0.25, random_state=RANDOM_STATE, stratify=y)"
   ]
  },
  {
   "cell_type": "markdown",
   "id": "4b631776-01a4-4581-9e7a-c97ff87ad23a",
   "metadata": {},
   "source": [
    "Создаем списки категориальных и численных столбцов"
   ]
  },
  {
   "cell_type": "code",
   "execution_count": 191,
   "id": "aac0db6d-1138-4ad1-830f-3fbe95cfb1a3",
   "metadata": {
    "id": "aac0db6d-1138-4ad1-830f-3fbe95cfb1a3"
   },
   "outputs": [],
   "source": [
    "ohe_columns = ['country_code']\n",
    "num_columns = ['funding_total_usd', 'funding_rounds', 'delta_funding_at', 'log_funding_total_usd', 'lifetime']"
   ]
  },
  {
   "cell_type": "markdown",
   "id": "2bcfed75-2548-4822-b90c-9a62e96cec64",
   "metadata": {},
   "source": [
    "## Создаем пайплайн и получаем предсказания модели"
   ]
  },
  {
   "cell_type": "code",
   "execution_count": 192,
   "id": "1fa28481",
   "metadata": {
    "id": "1fa28481"
   },
   "outputs": [],
   "source": [
    "#создаём пайплайн для подготовки признаков из списка ohe_columns\n",
    "ohe_pipe = Pipeline(\n",
    "    [('simpleImputer_ohe', SimpleImputer(missing_values=np.nan, strategy='most_frequent')),\n",
    "    ('ohe', OneHotEncoder(drop='first', handle_unknown='ignore', sparse_output =False))\n",
    "    ]\n",
    ")\n",
    "\n",
    "# создаём общий пайплайн для подготовки данных\n",
    "data_preprocessor = ColumnTransformer(\n",
    "    [('ohe', ohe_pipe, ohe_columns),\n",
    "     ('num', MinMaxScaler(), num_columns)\n",
    "    ],\n",
    "    remainder='passthrough'\n",
    ")\n",
    "\n",
    "# создаём итоговый пайплайн: подготовка данных и модель\n",
    "pipe_final= Pipeline(\n",
    "    [\n",
    "        ('preprocessor', data_preprocessor),\n",
    "        ('models', RandomForestClassifier(random_state=RANDOM_STATE))\n",
    "    ]\n",
    ")\n",
    "\n",
    "#гиперпараметры для моделей + перебор методов масштабирования\n",
    "param_grid = [\n",
    "    \n",
    "    {\n",
    "        'models' : [RandomForestClassifier(random_state=RANDOM_STATE)],\n",
    "        'preprocessor__num': [StandardScaler(), MinMaxScaler()]\n",
    "        \n",
    "    }\n",
    "]"
   ]
  },
  {
   "cell_type": "code",
   "execution_count": 75,
   "id": "a399e891",
   "metadata": {
    "id": "a399e891"
   },
   "outputs": [
    {
     "name": "stdout",
     "output_type": "stream",
     "text": [
      "Лучшая модель и её параметры:\n",
      "\n",
      " Pipeline(steps=[('preprocessor',\n",
      "                 ColumnTransformer(remainder='passthrough',\n",
      "                                   transformers=[('ohe',\n",
      "                                                  Pipeline(steps=[('simpleImputer_ohe',\n",
      "                                                                   SimpleImputer(strategy='most_frequent')),\n",
      "                                                                  ('ohe',\n",
      "                                                                   OneHotEncoder(drop='first',\n",
      "                                                                                 handle_unknown='ignore',\n",
      "                                                                                 sparse_output=False))]),\n",
      "                                                  ['country_code']),\n",
      "                                                 ('num', StandardScaler(),\n",
      "                                                  ['funding_total_usd',\n",
      "                                                   'funding_rounds',\n",
      "                                                   'delta_funding_at',\n",
      "                                                   'log_funding_total_usd',\n",
      "                                                   'lifetime'])])),\n",
      "                ('models', RandomForestClassifier(random_state=1337))])\n",
      "Метрика лучшей модели на тренировочной выборке: 0.8573325627550423\n"
     ]
    }
   ],
   "source": [
    "gridsearch = GridSearchCV(\n",
    "    pipe_final,\n",
    "    param_grid,\n",
    "    cv=10,\n",
    "    scoring='balanced_accuracy',\n",
    "    #random_state=RANDOM_STATE,\n",
    "    n_jobs=-1\n",
    ")\n",
    "gridsearch.fit(X_train, y_train)\n",
    "\n",
    "print('Лучшая модель и её параметры:\\n\\n', gridsearch.best_estimator_)\n",
    "print ('Метрика лучшей модели на тренировочной выборке:', gridsearch.best_score_)"
   ]
  },
  {
   "cell_type": "code",
   "execution_count": 193,
   "id": "d7a065ea",
   "metadata": {
    "id": "d7a065ea"
   },
   "outputs": [
    {
     "name": "stdout",
     "output_type": "stream",
     "text": [
      "<class 'pandas.core.frame.DataFrame'>\n",
      "RangeIndex: 13125 entries, 0 to 13124\n",
      "Data columns (total 12 columns):\n",
      " #   Column             Non-Null Count  Dtype         \n",
      "---  ------             --------------  -----         \n",
      " 0   name               13125 non-null  object        \n",
      " 1   category_list      12534 non-null  object        \n",
      " 2   funding_total_usd  10547 non-null  float64       \n",
      " 3   country_code       11743 non-null  object        \n",
      " 4   state_code         11430 non-null  object        \n",
      " 5   region             11536 non-null  object        \n",
      " 6   city               11538 non-null  object        \n",
      " 7   funding_rounds     13125 non-null  int64         \n",
      " 8   first_funding_at   13125 non-null  datetime64[ns]\n",
      " 9   last_funding_at    13125 non-null  datetime64[ns]\n",
      " 10  lifetime           13125 non-null  int64         \n",
      " 11  delta_funding_at   13125 non-null  int64         \n",
      "dtypes: datetime64[ns](2), float64(1), int64(3), object(6)\n",
      "memory usage: 1.2+ MB\n"
     ]
    }
   ],
   "source": [
    "test.info()"
   ]
  },
  {
   "cell_type": "markdown",
   "id": "6015533d-7341-44b3-8106-3a1694b44258",
   "metadata": {},
   "source": [
    "Заполняем пропуски в столбце `funding_total_usd` медианным значением"
   ]
  },
  {
   "cell_type": "code",
   "execution_count": 194,
   "id": "0128e669-ae69-4752-8b01-6893f6b0c7f5",
   "metadata": {},
   "outputs": [
    {
     "data": {
      "text/plain": [
       "funding_total_usd\n",
       "False    10547\n",
       "True      2578\n",
       "Name: count, dtype: int64"
      ]
     },
     "execution_count": 194,
     "metadata": {},
     "output_type": "execute_result"
    }
   ],
   "source": [
    "test['funding_total_usd'].isna().value_counts()"
   ]
  },
  {
   "cell_type": "code",
   "execution_count": 195,
   "id": "436f31c4",
   "metadata": {
    "id": "436f31c4"
   },
   "outputs": [],
   "source": [
    "test['funding_total_usd'] = test['funding_total_usd'].fillna(test['funding_total_usd'].median())\n",
    "test['log_funding_total_usd'] = np.log(test['funding_total_usd'])"
   ]
  },
  {
   "cell_type": "code",
   "execution_count": 196,
   "id": "b3e19fbf-b229-44ca-a3bc-257579e59b7a",
   "metadata": {},
   "outputs": [
    {
     "data": {
      "text/plain": [
       "funding_total_usd\n",
       "False    13125\n",
       "Name: count, dtype: int64"
      ]
     },
     "execution_count": 196,
     "metadata": {},
     "output_type": "execute_result"
    }
   ],
   "source": [
    "test['funding_total_usd'].isna().value_counts()"
   ]
  },
  {
   "cell_type": "code",
   "execution_count": 205,
   "id": "74100194",
   "metadata": {
    "id": "74100194"
   },
   "outputs": [
    {
     "name": "stdout",
     "output_type": "stream",
     "text": [
      "<class 'pandas.core.frame.DataFrame'>\n",
      "RangeIndex: 13125 entries, 0 to 13124\n",
      "Data columns (total 14 columns):\n",
      " #   Column                 Non-Null Count  Dtype         \n",
      "---  ------                 --------------  -----         \n",
      " 0   name                   13125 non-null  object        \n",
      " 1   category_list          12534 non-null  object        \n",
      " 2   funding_total_usd      13125 non-null  int64         \n",
      " 3   country_code           11743 non-null  object        \n",
      " 4   state_code             11430 non-null  object        \n",
      " 5   region                 11536 non-null  object        \n",
      " 6   city                   11538 non-null  object        \n",
      " 7   funding_rounds         13125 non-null  int64         \n",
      " 8   first_funding_at       13125 non-null  datetime64[ns]\n",
      " 9   last_funding_at        13125 non-null  datetime64[ns]\n",
      " 10  lifetime               13125 non-null  int64         \n",
      " 11  delta_funding_at       13125 non-null  int64         \n",
      " 12  log_funding_total_usd  13125 non-null  float64       \n",
      " 13  sqr_funding_total_usd  13125 non-null  float64       \n",
      "dtypes: datetime64[ns](2), float64(2), int64(4), object(6)\n",
      "memory usage: 1.4+ MB\n"
     ]
    }
   ],
   "source": [
    "test.info()"
   ]
  },
  {
   "cell_type": "markdown",
   "id": "4c35b5d6-1acc-46eb-a9f9-76953f0aa8ba",
   "metadata": {},
   "source": [
    "Получаем предсказания"
   ]
  },
  {
   "cell_type": "code",
   "execution_count": 206,
   "id": "92ced764",
   "metadata": {
    "id": "92ced764"
   },
   "outputs": [
    {
     "data": {
      "text/plain": [
       "array([1, 0, 1, ..., 1, 1, 1])"
      ]
     },
     "execution_count": 206,
     "metadata": {},
     "output_type": "execute_result"
    }
   ],
   "source": [
    "gridsearch.predict(test)"
   ]
  },
  {
   "cell_type": "markdown",
   "id": "93a63b36-4d97-4caf-a3dd-dac7db27c88b",
   "metadata": {},
   "source": [
    "Создаем новый дф с предсказаниями"
   ]
  },
  {
   "cell_type": "code",
   "execution_count": 207,
   "id": "c5f9e0fd",
   "metadata": {
    "id": "c5f9e0fd"
   },
   "outputs": [],
   "source": [
    "df = pd.DataFrame({'name' : test['name'], 'status' : gridsearch.predict(test)})"
   ]
  },
  {
   "cell_type": "code",
   "execution_count": 208,
   "id": "54cfe302",
   "metadata": {
    "id": "54cfe302"
   },
   "outputs": [
    {
     "data": {
      "text/html": [
       "<div>\n",
       "<style scoped>\n",
       "    .dataframe tbody tr th:only-of-type {\n",
       "        vertical-align: middle;\n",
       "    }\n",
       "\n",
       "    .dataframe tbody tr th {\n",
       "        vertical-align: top;\n",
       "    }\n",
       "\n",
       "    .dataframe thead th {\n",
       "        text-align: right;\n",
       "    }\n",
       "</style>\n",
       "<table border=\"1\" class=\"dataframe\">\n",
       "  <thead>\n",
       "    <tr style=\"text-align: right;\">\n",
       "      <th></th>\n",
       "      <th>name</th>\n",
       "      <th>status</th>\n",
       "    </tr>\n",
       "  </thead>\n",
       "  <tbody>\n",
       "    <tr>\n",
       "      <th>0</th>\n",
       "      <td>Crystalsol</td>\n",
       "      <td>1</td>\n",
       "    </tr>\n",
       "    <tr>\n",
       "      <th>1</th>\n",
       "      <td>JBI Fish &amp; Wings</td>\n",
       "      <td>0</td>\n",
       "    </tr>\n",
       "    <tr>\n",
       "      <th>2</th>\n",
       "      <td>COINPLUS</td>\n",
       "      <td>1</td>\n",
       "    </tr>\n",
       "    <tr>\n",
       "      <th>3</th>\n",
       "      <td>Imagine Communications</td>\n",
       "      <td>1</td>\n",
       "    </tr>\n",
       "    <tr>\n",
       "      <th>4</th>\n",
       "      <td>DNA13</td>\n",
       "      <td>1</td>\n",
       "    </tr>\n",
       "  </tbody>\n",
       "</table>\n",
       "</div>"
      ],
      "text/plain": [
       "                     name  status\n",
       "0              Crystalsol       1\n",
       "1        JBI Fish & Wings       0\n",
       "2                COINPLUS       1\n",
       "3  Imagine Communications       1\n",
       "4                   DNA13       1"
      ]
     },
     "execution_count": 208,
     "metadata": {},
     "output_type": "execute_result"
    }
   ],
   "source": [
    "df.head()"
   ]
  },
  {
   "cell_type": "code",
   "execution_count": 209,
   "id": "da37b328-2b14-4407-8580-1823d1b12363",
   "metadata": {},
   "outputs": [
    {
     "data": {
      "text/plain": [
       "status\n",
       "1    11807\n",
       "0     1318\n",
       "Name: count, dtype: int64"
      ]
     },
     "execution_count": 209,
     "metadata": {},
     "output_type": "execute_result"
    }
   ],
   "source": [
    "df.status.value_counts()"
   ]
  },
  {
   "cell_type": "markdown",
   "id": "a9faabf7-b53b-40f5-a8bf-d64cebb8473e",
   "metadata": {},
   "source": [
    "Изменяем порог классификции"
   ]
  },
  {
   "cell_type": "code",
   "execution_count": 213,
   "id": "3389705c-3af5-4632-a347-004555305315",
   "metadata": {},
   "outputs": [
    {
     "data": {
      "text/plain": [
       "status\n",
       "operating    11958\n",
       "closed        1167\n",
       "Name: count, dtype: int64"
      ]
     },
     "execution_count": 213,
     "metadata": {},
     "output_type": "execute_result"
    }
   ],
   "source": [
    "y_pred = np.where(gridsearch.predict_proba(test)[:,1] > 0.4, 1, 0)\n",
    "df_new = pd.DataFrame({'name' : test['name'], 'status' : y_pred})\n",
    "df_new.loc[df_new['status'] ==1, 'status'] = 'operating'\n",
    "df_new.loc[df_new['status'] ==0, 'status'] = 'closed'\n",
    "df_new.status.value_counts()"
   ]
  },
  {
   "cell_type": "markdown",
   "id": "27e4056d-0409-4cd3-a7fe-4a80619ea597",
   "metadata": {},
   "source": [
    "Делаем столбец `name` индексом"
   ]
  },
  {
   "cell_type": "code",
   "execution_count": 115,
   "id": "7c109ff8-4c53-4955-90cd-6c75251e181c",
   "metadata": {},
   "outputs": [],
   "source": [
    "df_new = df_new.set_index('name')"
   ]
  },
  {
   "cell_type": "markdown",
   "id": "8b28c944-bf0c-4bab-9015-70c864d69408",
   "metadata": {},
   "source": [
    "Сохраняем дф"
   ]
  },
  {
   "cell_type": "code",
   "execution_count": 116,
   "id": "bc8676cd-5e72-4d1d-bf42-dfdd54602d9b",
   "metadata": {},
   "outputs": [],
   "source": [
    "df_new.to_csv('g0000L_4.csv')"
   ]
  },
  {
   "cell_type": "markdown",
   "id": "2136caac-0ba4-403e-8520-e156ba30dbc9",
   "metadata": {},
   "source": [
    "## Вывод:\n",
    "- загрузили данные, изменили тип данных на корректный\n",
    "- заполнили пропуски в `closed_at` датой сбора данных\n",
    "- создали новые признаки `lifetime`, `delta_funding_at`\n",
    "- удалили строки в дф `train` с пропущеными значениями\n",
    "- построили матрицу корреляции и отобрали признаки для обучения модели\n",
    "- закодировали целевой признак\n",
    "- добавили в дф синтетические данные для устранения сильного дисбаланса\n",
    "- созздали пайплайн для обучения модели\n",
    "- заполнили пропуски в тренировочнеом датасете в столбце `funding_total_usd` на медианное значение\n",
    "- получили предсказание\n",
    "- изменили порог классификации\n",
    "- собрали предсказания и названия стартапов в один дф "
   ]
  },
  {
   "cell_type": "code",
   "execution_count": null,
   "id": "367c20f1-8072-4218-85f0-865d7af58d50",
   "metadata": {},
   "outputs": [],
   "source": []
  }
 ],
 "metadata": {
  "ExecuteTimeLog": [
   {
    "duration": 88,
    "start_time": "2024-07-08T16:44:09.241Z"
   },
   {
    "duration": 397,
    "start_time": "2024-07-08T16:44:31.416Z"
   },
   {
    "duration": 82,
    "start_time": "2024-07-08T17:40:52.767Z"
   },
   {
    "duration": 204,
    "start_time": "2024-07-08T17:43:51.794Z"
   },
   {
    "duration": 344,
    "start_time": "2024-07-08T17:46:16.264Z"
   },
   {
    "duration": 18,
    "start_time": "2024-07-08T17:46:25.825Z"
   },
   {
    "duration": 10,
    "start_time": "2024-07-08T17:47:04.810Z"
   },
   {
    "duration": 7,
    "start_time": "2024-07-08T17:47:48.179Z"
   },
   {
    "duration": 276,
    "start_time": "2024-07-08T17:48:04.900Z"
   },
   {
    "duration": 11,
    "start_time": "2024-07-08T17:48:06.277Z"
   },
   {
    "duration": 11,
    "start_time": "2024-07-08T17:48:06.412Z"
   },
   {
    "duration": 31,
    "start_time": "2024-07-08T17:48:29.213Z"
   },
   {
    "duration": 36,
    "start_time": "2024-07-08T17:48:38.734Z"
   },
   {
    "duration": 11,
    "start_time": "2024-07-08T17:48:47.294Z"
   },
   {
    "duration": 29,
    "start_time": "2024-07-08T17:48:52.895Z"
   },
   {
    "duration": 17,
    "start_time": "2024-07-08T17:50:09.377Z"
   },
   {
    "duration": 12,
    "start_time": "2024-07-08T18:12:05.483Z"
   },
   {
    "duration": 12,
    "start_time": "2024-07-08T18:12:13.219Z"
   },
   {
    "duration": 21,
    "start_time": "2024-07-09T09:13:46.267Z"
   },
   {
    "duration": 29,
    "start_time": "2024-07-09T09:13:53.226Z"
   },
   {
    "duration": 38,
    "start_time": "2024-07-09T09:14:04.261Z"
   },
   {
    "duration": 6,
    "start_time": "2024-07-09T09:15:23.511Z"
   },
   {
    "duration": 14,
    "start_time": "2024-07-09T09:15:34.264Z"
   },
   {
    "duration": 64,
    "start_time": "2024-07-09T09:15:53.579Z"
   },
   {
    "duration": 18,
    "start_time": "2024-07-09T09:17:34.548Z"
   },
   {
    "duration": 7,
    "start_time": "2024-07-09T09:30:11.242Z"
   },
   {
    "duration": 20,
    "start_time": "2024-07-09T09:30:19.608Z"
   },
   {
    "duration": 24,
    "start_time": "2024-07-09T09:30:36.606Z"
   },
   {
    "duration": 1314,
    "start_time": "2024-07-10T13:08:27.447Z"
   },
   {
    "duration": 96,
    "start_time": "2024-07-10T13:09:46.654Z"
   },
   {
    "duration": 2,
    "start_time": "2024-07-10T13:09:51.649Z"
   },
   {
    "duration": 396,
    "start_time": "2024-07-10T13:09:51.799Z"
   },
   {
    "duration": 16,
    "start_time": "2024-07-10T13:09:52.196Z"
   },
   {
    "duration": 36,
    "start_time": "2024-07-10T13:09:52.213Z"
   },
   {
    "duration": 85,
    "start_time": "2024-07-10T13:09:52.251Z"
   },
   {
    "duration": 6,
    "start_time": "2024-07-10T13:09:52.431Z"
   },
   {
    "duration": 21,
    "start_time": "2024-07-10T13:09:52.561Z"
   },
   {
    "duration": 7,
    "start_time": "2024-07-10T13:09:52.732Z"
   },
   {
    "duration": 93,
    "start_time": "2024-07-10T13:10:05.401Z"
   },
   {
    "duration": 335,
    "start_time": "2024-07-10T13:11:34.354Z"
   },
   {
    "duration": 241,
    "start_time": "2024-07-10T13:11:57.488Z"
   },
   {
    "duration": 8,
    "start_time": "2024-07-10T13:12:14.843Z"
   },
   {
    "duration": 11,
    "start_time": "2024-07-10T13:12:23.475Z"
   },
   {
    "duration": 11,
    "start_time": "2024-07-10T13:12:35.332Z"
   },
   {
    "duration": 8,
    "start_time": "2024-07-10T13:12:46.189Z"
   },
   {
    "duration": 5,
    "start_time": "2024-07-10T13:12:50.580Z"
   },
   {
    "duration": 8,
    "start_time": "2024-07-10T13:12:56.957Z"
   },
   {
    "duration": 17,
    "start_time": "2024-07-10T13:15:11.001Z"
   },
   {
    "duration": 14,
    "start_time": "2024-07-10T13:15:18.873Z"
   },
   {
    "duration": 66,
    "start_time": "2024-07-10T13:28:50.945Z"
   },
   {
    "duration": 14,
    "start_time": "2024-07-10T13:28:55.291Z"
   },
   {
    "duration": 18,
    "start_time": "2024-07-10T13:31:49.735Z"
   },
   {
    "duration": 22,
    "start_time": "2024-07-10T13:31:55.442Z"
   },
   {
    "duration": 13,
    "start_time": "2024-07-10T13:32:09.178Z"
   },
   {
    "duration": 21,
    "start_time": "2024-07-10T14:02:37.417Z"
   },
   {
    "duration": 8,
    "start_time": "2024-07-10T14:02:40.269Z"
   },
   {
    "duration": 3936,
    "start_time": "2024-07-10T14:02:54.833Z"
   },
   {
    "duration": 3,
    "start_time": "2024-07-10T14:03:13.799Z"
   },
   {
    "duration": 441,
    "start_time": "2024-07-10T14:03:15.263Z"
   },
   {
    "duration": 13,
    "start_time": "2024-07-10T14:03:15.706Z"
   },
   {
    "duration": 34,
    "start_time": "2024-07-10T14:03:15.721Z"
   },
   {
    "duration": 68,
    "start_time": "2024-07-10T14:03:16.039Z"
   },
   {
    "duration": 5,
    "start_time": "2024-07-10T14:03:16.443Z"
   },
   {
    "duration": 22,
    "start_time": "2024-07-10T14:03:16.655Z"
   },
   {
    "duration": 15,
    "start_time": "2024-07-10T14:03:16.849Z"
   },
   {
    "duration": 67,
    "start_time": "2024-07-10T14:03:17.680Z"
   },
   {
    "duration": 213980,
    "start_time": "2024-07-10T14:03:43.316Z"
   },
   {
    "duration": 14,
    "start_time": "2024-07-10T14:07:17.298Z"
   },
   {
    "duration": 61,
    "start_time": "2024-07-10T14:10:05.929Z"
   },
   {
    "duration": 15,
    "start_time": "2024-07-10T14:11:28.077Z"
   },
   {
    "duration": 16,
    "start_time": "2024-07-10T14:11:54.326Z"
   },
   {
    "duration": 16,
    "start_time": "2024-07-10T14:12:10.302Z"
   },
   {
    "duration": 2607,
    "start_time": "2024-07-10T14:13:08.396Z"
   },
   {
    "duration": 3,
    "start_time": "2024-07-10T14:13:11.005Z"
   },
   {
    "duration": 505,
    "start_time": "2024-07-10T14:13:11.010Z"
   },
   {
    "duration": 14,
    "start_time": "2024-07-10T14:13:11.517Z"
   },
   {
    "duration": 26,
    "start_time": "2024-07-10T14:13:12.221Z"
   },
   {
    "duration": 65,
    "start_time": "2024-07-10T14:13:12.773Z"
   },
   {
    "duration": 7,
    "start_time": "2024-07-10T14:13:13.404Z"
   },
   {
    "duration": 22,
    "start_time": "2024-07-10T14:13:15.011Z"
   },
   {
    "duration": 15,
    "start_time": "2024-07-10T14:13:15.693Z"
   },
   {
    "duration": 13,
    "start_time": "2024-07-10T14:13:17.405Z"
   },
   {
    "duration": 57,
    "start_time": "2024-07-10T14:13:19.465Z"
   },
   {
    "duration": 16,
    "start_time": "2024-07-10T14:13:22.610Z"
   },
   {
    "duration": 872,
    "start_time": "2024-07-10T14:18:21.174Z"
   },
   {
    "duration": 17,
    "start_time": "2024-07-10T14:18:44.516Z"
   },
   {
    "duration": 18,
    "start_time": "2024-07-10T14:18:48.050Z"
   },
   {
    "duration": 469,
    "start_time": "2024-07-10T14:18:50.320Z"
   },
   {
    "duration": 6,
    "start_time": "2024-07-10T14:20:32.842Z"
   },
   {
    "duration": 8,
    "start_time": "2024-07-10T14:20:42.729Z"
   },
   {
    "duration": 88,
    "start_time": "2024-07-10T14:24:26.302Z"
   },
   {
    "duration": 15,
    "start_time": "2024-07-10T14:24:44.137Z"
   }
  ],
  "colab": {
   "provenance": []
  },
  "kernelspec": {
   "display_name": "Python 3 (ipykernel)",
   "language": "python",
   "name": "python3"
  },
  "language_info": {
   "codemirror_mode": {
    "name": "ipython",
    "version": 3
   },
   "file_extension": ".py",
   "mimetype": "text/x-python",
   "name": "python",
   "nbconvert_exporter": "python",
   "pygments_lexer": "ipython3",
   "version": "3.10.6"
  },
  "toc": {
   "base_numbering": 1,
   "nav_menu": {},
   "number_sections": true,
   "sideBar": true,
   "skip_h1_title": true,
   "title_cell": "Table of Contents",
   "title_sidebar": "Contents",
   "toc_cell": false,
   "toc_position": {},
   "toc_section_display": true,
   "toc_window_display": false
  }
 },
 "nbformat": 4,
 "nbformat_minor": 5
}
